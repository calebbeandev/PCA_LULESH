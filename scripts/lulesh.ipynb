{
 "cells": [
  {
   "cell_type": "markdown",
   "metadata": {},
   "source": [
    "# <font color='CornflowerBlue'>LULESH Jupyter Notebook</font>\n",
    "Author(s) : Caleb Bean, Benjamin Hicks   \n",
    "Purpose: Python code used to generate slurm job scripts, execute them, parse outputs, and plot meaningful data\n",
    "## High level Job Execution Setup"
   ]
  },
  {
   "cell_type": "code",
   "execution_count": 14,
   "metadata": {},
   "outputs": [],
   "source": [
    "# lulesh.ipynb\n",
    "# Verified on Python 3.10.8\n",
    "# Last date modified: 4/29/2024\n",
    "\n",
    "import subprocess\n",
    "import os\n",
    "import matplotlib.pyplot as plt\n",
    "import numpy as np\n",
    "\n",
    "\n",
    "job_directory = '../LULESH/'\n",
    "job_file_name = 'job-hw.sh'\n",
    "job_path = job_directory+job_file_name\n",
    "\n",
    "plot_directory = '../plots/'\n",
    "\n",
    "email = 'caleb.bean@ufl.edu'\n",
    "\n",
    "outfile_prefix = 'lulesh_out' # Note that currently outfiles do not get produced and the output is only available via stdout\n",
    "errfile_prefix = 'lulesh_err'\n",
    "slurmrun_cmd = 'srun ./lulesh2.0 -i 500 -s '\n",
    "\n",
    "# Outputs we wish to track (MUST be printed stdout in form Foo=X where X is floating point data to be captured)\n",
    "outputs_track = [\n",
    "                'Time',\n",
    "                'Cycles'\n",
    "                ]\n",
    "\n",
    "# outputs_dict used to store all parsed outputs (dont touch this)\n",
    "outputs_dict = {}\n",
    "for output in outputs_track:\n",
    "    outputs_dict[output] = []"
   ]
  },
  {
   "cell_type": "markdown",
   "metadata": {},
   "source": [
    "### Serial Execution Parameter Setup"
   ]
  },
  {
   "cell_type": "code",
   "execution_count": 15,
   "metadata": {},
   "outputs": [],
   "source": [
    "# # SBATCH parameters\n",
    "# # lulesh_s_param = [5,8]\n",
    "# lulesh_s_param = [5,8,10,12,14,16,18,20,22,25,32,48]\n",
    "# omp_num_threads = []\n",
    "# nodes = [1]*len(lulesh_s_param)\n",
    "# ntasks = [1]*len(lulesh_s_param)\n",
    "# ntasks_per_node = [1]*len(lulesh_s_param)\n",
    "\n",
    "# job_count = len(lulesh_s_param)"
   ]
  },
  {
   "cell_type": "markdown",
   "metadata": {},
   "source": [
    "### OpenMP Execution Parameter Setup"
   ]
  },
  {
   "cell_type": "code",
   "execution_count": 16,
   "metadata": {},
   "outputs": [],
   "source": [
    "# # SBATCH parameters\n",
    "# # lulesh_s_param = [5,8]\n",
    "# # lulesh_s_param = [5,8,10,12,14,16,18,20,22,25,32,48]\n",
    "# omp_num_threads = [1,2,4,8,16,32]\n",
    "# cpus_per_task = omp_num_threads\n",
    "# lulesh_s_param = [81]*len(omp_num_threads)\n",
    "# nodes = [1]*len(omp_num_threads)\n",
    "# ntasks = [1]*len(omp_num_threads)\n",
    "# ntasks_per_node = [1]*len(omp_num_threads)\n",
    "\n",
    "# job_count = len(omp_num_threads)"
   ]
  },
  {
   "cell_type": "markdown",
   "metadata": {},
   "source": [
    "### MPI Execution Parameter Setup"
   ]
  },
  {
   "cell_type": "code",
   "execution_count": 17,
   "metadata": {},
   "outputs": [],
   "source": [
    "# # SBATCH parameters\n",
    "\n",
    "# ntasks = [65]\n",
    "# ntasks_per_node = ntasks\n",
    "# # ntasks_per_node = [1]*len(ntasks)\n",
    "# cpus_per_task = [1]*len(ntasks)\n",
    "# nodes = []\n",
    "# omp_num_threads = []\n",
    "# lulesh_s_param = [80]*len(ntasks)\n",
    "\n",
    "# job_count = len(ntasks)"
   ]
  },
  {
   "cell_type": "markdown",
   "metadata": {},
   "source": [
    "### MPI+OMP Execution Parameter Setup"
   ]
  },
  {
   "cell_type": "code",
   "execution_count": 18,
   "metadata": {},
   "outputs": [],
   "source": [
    "# SBATCH parameters\n",
    "\n",
    "ntasks = [1,2,4,8,16,32,64]\n",
    "ntasks_per_node = ntasks\n",
    "# ntasks_per_node = [1]*len(ntasks)\n",
    "cpus_per_task = [16]*len(ntasks)\n",
    "nodes = [1]*len(ntasks)\n",
    "omp_num_threads = cpus_per_task\n",
    "lulesh_s_param = [32]*len(ntasks)\n",
    "\n",
    "job_count = len(ntasks)"
   ]
  },
  {
   "cell_type": "markdown",
   "metadata": {},
   "source": [
    "## Function and variable definitions"
   ]
  },
  {
   "cell_type": "code",
   "execution_count": 19,
   "metadata": {},
   "outputs": [],
   "source": [
    "sbatch_cmds_dict = {\n",
    "    '#!/bin/bash'                           : [],\n",
    "    '#SBATCH --mail-type=FAIL'              : [],\n",
    "    '#SBATCH --mail-user='+email            : [],\n",
    "    '#SBATCH --account=eel6763'             : [],\n",
    "    '#SBATCH --qos=eel6763'                 : [],\n",
    "    '#SBATCH --nodes='                      : nodes, # Fill this\n",
    "    '#SBATCH --ntasks='                     : ntasks, # Fill this\n",
    "    '#SBATCH --ntasks-per-node='            : ntasks_per_node, # Fill this\n",
    "    '#SBATCH --cpus-per-task='              : cpus_per_task,\n",
    "    '#SBATCH --mem-per-cpu=500mb'           : [],\n",
    "    '#SBATCH -t 00:20:00'                   : [],\n",
    "    '#SBATCH -o '+outfile_prefix            : list(range(job_count)),\n",
    "    '#SBATCH -e '+errfile_prefix            : list(range(job_count)),\n",
    "    'export OMP_NUM_THREADS='               : omp_num_threads,\n",
    "    slurmrun_cmd                            : lulesh_s_param, # Fill this\n",
    "    }\n",
    "\n",
    "\n",
    "def genSlurmCmds(sbatch_cmds_dict : dict, job_count : int):\n",
    "    # This function converts the vectorized dictionary into individual string arrays to be written to slurm files\n",
    "    \n",
    "    slurm_cmds_arr = [[]]*job_count\n",
    "    \n",
    "    for i in range(job_count):\n",
    "        cmd_str_arr = []\n",
    "        for cmd in sbatch_cmds_dict:\n",
    "\n",
    "            if(sbatch_cmds_dict[cmd]): cmd_str_arr.append(cmd+str(sbatch_cmds_dict[cmd][i]))\n",
    "            else: cmd_str_arr.append(cmd)\n",
    "            \n",
    "        slurm_cmds_arr[i] = cmd_str_arr\n",
    "\n",
    "    return slurm_cmds_arr\n",
    "\n",
    "def genSlurmFile(cmds, path : str):\n",
    "    with open (path, 'w+') as slurmf: \n",
    "        for cmd in cmds:\n",
    "            slurmf.write(cmd + '\\n')\n",
    "\n",
    "    os.chmod(path, 0o744)\n",
    "\n",
    "\n",
    "def executeSlurmFile(job_dir, job_name):\n",
    "    \n",
    "    slurm = subprocess.run(['./'+job_name], cwd=job_dir, stdout=subprocess.PIPE, encoding='utf-8') # Should return once complete I think\n",
    "    slurm.check_returncode() # Ensures process ran and exited properly\n",
    "    \n",
    "    output_text = slurm.stdout\n",
    "    #print(output_text)\n",
    "    return output_text\n",
    "\n",
    "def parseOutputText(text: str, out_dict: str):\n",
    "\n",
    "    lines = text.splitlines()\n",
    "\n",
    "    for key in out_dict:\n",
    "        for line in lines:\n",
    "            if key in line:\n",
    "                temp = line.split(key)[1]\n",
    "                temp = temp.replace('=','')\n",
    "                out_dict[key].append(float(temp))\n",
    "    \n",
    "    #print(out_dict)\n"
   ]
  },
  {
   "cell_type": "markdown",
   "metadata": {},
   "source": [
    "## Code build and execution of each job"
   ]
  },
  {
   "cell_type": "code",
   "execution_count": 20,
   "metadata": {},
   "outputs": [
    {
     "name": "stdout",
     "output_type": "stream",
     "text": [
      "['#!/bin/bash', '#SBATCH --mail-type=FAIL', '#SBATCH --mail-user=caleb.bean@ufl.edu', '#SBATCH --account=eel6763', '#SBATCH --qos=eel6763', '#SBATCH --nodes=1', '#SBATCH --ntasks=1', '#SBATCH --ntasks-per-node=1', '#SBATCH --cpus-per-task=16', '#SBATCH --mem-per-cpu=500mb', '#SBATCH -t 00:20:00', '#SBATCH -o lulesh_out0', '#SBATCH -e lulesh_err0', 'export OMP_NUM_THREADS=16', 'srun ./lulesh2.0 -i 500 -s 32']\n"
     ]
    },
    {
     "name": "stderr",
     "output_type": "stream",
     "text": [
      "srun: job 30403237 queued and waiting for resources\n",
      "srun: job 30403237 has been allocated resources\n"
     ]
    },
    {
     "name": "stdout",
     "output_type": "stream",
     "text": [
      "['#!/bin/bash', '#SBATCH --mail-type=FAIL', '#SBATCH --mail-user=caleb.bean@ufl.edu', '#SBATCH --account=eel6763', '#SBATCH --qos=eel6763', '#SBATCH --nodes=1', '#SBATCH --ntasks=2', '#SBATCH --ntasks-per-node=2', '#SBATCH --cpus-per-task=16', '#SBATCH --mem-per-cpu=500mb', '#SBATCH -t 00:20:00', '#SBATCH -o lulesh_out1', '#SBATCH -e lulesh_err1', 'export OMP_NUM_THREADS=16', 'srun ./lulesh2.0 -i 500 -s 32']\n"
     ]
    },
    {
     "name": "stderr",
     "output_type": "stream",
     "text": [
      "srun: job 30403709 queued and waiting for resources\n",
      "srun: job 30403709 has been allocated resources\n"
     ]
    },
    {
     "name": "stdout",
     "output_type": "stream",
     "text": [
      "['#!/bin/bash', '#SBATCH --mail-type=FAIL', '#SBATCH --mail-user=caleb.bean@ufl.edu', '#SBATCH --account=eel6763', '#SBATCH --qos=eel6763', '#SBATCH --nodes=1', '#SBATCH --ntasks=4', '#SBATCH --ntasks-per-node=4', '#SBATCH --cpus-per-task=16', '#SBATCH --mem-per-cpu=500mb', '#SBATCH -t 00:20:00', '#SBATCH -o lulesh_out2', '#SBATCH -e lulesh_err2', 'export OMP_NUM_THREADS=16', 'srun ./lulesh2.0 -i 500 -s 32']\n"
     ]
    },
    {
     "name": "stderr",
     "output_type": "stream",
     "text": [
      "srun: job 30404267 queued and waiting for resources\n",
      "srun: job 30404267 has been allocated resources\n"
     ]
    },
    {
     "name": "stdout",
     "output_type": "stream",
     "text": [
      "['#!/bin/bash', '#SBATCH --mail-type=FAIL', '#SBATCH --mail-user=caleb.bean@ufl.edu', '#SBATCH --account=eel6763', '#SBATCH --qos=eel6763', '#SBATCH --nodes=1', '#SBATCH --ntasks=8', '#SBATCH --ntasks-per-node=8', '#SBATCH --cpus-per-task=16', '#SBATCH --mem-per-cpu=500mb', '#SBATCH -t 00:20:00', '#SBATCH -o lulesh_out3', '#SBATCH -e lulesh_err3', 'export OMP_NUM_THREADS=16', 'srun ./lulesh2.0 -i 500 -s 32']\n"
     ]
    },
    {
     "name": "stderr",
     "output_type": "stream",
     "text": [
      "srun: job 30404645 queued and waiting for resources\n",
      "srun: job 30404645 has been allocated resources\n"
     ]
    },
    {
     "name": "stdout",
     "output_type": "stream",
     "text": [
      "['#!/bin/bash', '#SBATCH --mail-type=FAIL', '#SBATCH --mail-user=caleb.bean@ufl.edu', '#SBATCH --account=eel6763', '#SBATCH --qos=eel6763', '#SBATCH --nodes=1', '#SBATCH --ntasks=16', '#SBATCH --ntasks-per-node=16', '#SBATCH --cpus-per-task=16', '#SBATCH --mem-per-cpu=500mb', '#SBATCH -t 00:20:00', '#SBATCH -o lulesh_out4', '#SBATCH -e lulesh_err4', 'export OMP_NUM_THREADS=16', 'srun ./lulesh2.0 -i 500 -s 32']\n"
     ]
    },
    {
     "name": "stderr",
     "output_type": "stream",
     "text": [
      "srun: job 30405053 queued and waiting for resources\n",
      "srun: job 30405053 has been allocated resources\n"
     ]
    }
   ],
   "source": [
    "\n",
    "slurm_cmds_arr = genSlurmCmds(sbatch_cmds_dict, job_count)\n",
    "\n",
    "for slurm_cmds in slurm_cmds_arr:\n",
    "    print(slurm_cmds)\n",
    "    genSlurmFile(slurm_cmds, job_path)\n",
    "    output_text = executeSlurmFile(job_directory, job_file_name)\n",
    "    parseOutputText(output_text, outputs_dict)"
   ]
  },
  {
   "cell_type": "markdown",
   "metadata": {},
   "source": [
    "## Test setup and plotting\n",
    "### Start by printing the parsed outputs"
   ]
  },
  {
   "cell_type": "code",
   "execution_count": null,
   "metadata": {},
   "outputs": [
    {
     "name": "stdout",
     "output_type": "stream",
     "text": [
      "{'Time': [270.0, 280.0, 280.0, 420.0, 390.0, 390.0, 390.0], 'Cycles': [500.0, 500.0, 500.0, 500.0, 500.0, 500.0, 500.0]}\n"
     ]
    }
   ],
   "source": [
    "print(outputs_dict) "
   ]
  },
  {
   "cell_type": "markdown",
   "metadata": {},
   "source": [
    "### Serial Analysis Plotting Setup"
   ]
  },
  {
   "cell_type": "code",
   "execution_count": null,
   "metadata": {},
   "outputs": [],
   "source": [
    "# figureName = \"LULESH_seral\"\n",
    "# t = np.array(outputs_dict['Time'])\n",
    "# iterations = np.array(outputs_dict['Cycles'])\n",
    "\n",
    "# print(\"time/iteration: \", t/iterations)\n",
    "\n",
    "# t_per_iter = (t/iterations)*1000\n",
    "\n",
    "# fig, ax = plt.subplots()\n",
    "# ax.plot(lulesh_s_param, t_per_iter)\n",
    "\n",
    "# ax.set(xlabel='Problem size (length of cube mesh side)', ylabel='Time per iteration (in ms)',\n",
    "#        title='LULESH OMP Analysis (4 threads)')\n",
    "# ax.grid()\n",
    "\n",
    "# fig.savefig(plot_directory+figureName+\".png\")\n",
    "\n",
    "# plt.show()"
   ]
  },
  {
   "cell_type": "markdown",
   "metadata": {},
   "source": [
    "### OpenMP Analysis Plotting Setup"
   ]
  },
  {
   "cell_type": "code",
   "execution_count": null,
   "metadata": {},
   "outputs": [],
   "source": [
    "# figureName = \"LULESH_OMP_81_final\"\n",
    "# t = np.array(outputs_dict['Time'])\n",
    "# iterations = np.array(outputs_dict['Cycles'])\n",
    "\n",
    "# print(\"time/iteration: \", t/iterations)\n",
    "\n",
    "# t_per_iter = (t/iterations)*1000\n",
    "\n",
    "# fig, ax = plt.subplots()\n",
    "# ax.plot(omp_num_threads, t_per_iter)\n",
    "\n",
    "# ax.set(xlabel='Number of threads', ylabel='Time per iteration (in ms)',\n",
    "#        title='LULESH OMP Analysis (81 problem size, 500 iterations)')\n",
    "# ax.grid()\n",
    "\n",
    "# plt.xticks(omp_num_threads)\n",
    "\n",
    "# fig.savefig(plot_directory+figureName+\".png\")\n",
    "\n",
    "# plt.show()"
   ]
  },
  {
   "cell_type": "markdown",
   "metadata": {},
   "source": [
    "### MPI Analysis Plotting Setup"
   ]
  },
  {
   "cell_type": "code",
   "execution_count": null,
   "metadata": {},
   "outputs": [],
   "source": [
    "\n",
    "# figureName = \"LULESH_MPI_30_nnnn\"\n",
    "# t = np.array(outputs_dict['Time'])\n",
    "# iterations = np.array(outputs_dict['Cycles'])\n",
    "\n",
    "# print(\"time/iteration: \", t/iterations)\n",
    "\n",
    "# t_per_iter = (t/iterations)*1000\n",
    "\n",
    "# fig, ax = plt.subplots()\n",
    "# ax.plot(ntasks, t_per_iter)\n",
    "\n",
    "# ax.set(xlabel='Number of cores', ylabel='Time per iteration (in ms)',\n",
    "#        title='LULESH MPI Analysis (problem size = 50, iterations = 500)')\n",
    "# ax.grid()\n",
    "# plt.xticks(ntasks)\n",
    "# fig.savefig(plot_directory+figureName+\".png\")\n",
    "\n",
    "# plt.show()\n"
   ]
  },
  {
   "cell_type": "markdown",
   "metadata": {},
   "source": [
    "### MPI+OMP Analysis Plotting Setup"
   ]
  },
  {
   "cell_type": "code",
   "execution_count": null,
   "metadata": {},
   "outputs": [
    {
     "name": "stdout",
     "output_type": "stream",
     "text": [
      "time/iteration:  [0.54 0.56 0.56 0.84 0.78 0.78 0.78]\n"
     ]
    },
    {
     "data": {
      "image/png": "[encoded data removed]",
      "text/plain": [
       "<Figure size 432x288 with 1 Axes>"
      ]
     },
     "metadata": {
      "needs_background": "light"
     },
     "output_type": "display_data"
    }
   ],
   "source": [
    "figureName = \"LULESH_updated_code_2\"\n",
    "t = np.array(outputs_dict['Time'])\n",
    "iterations = np.array(outputs_dict['Cycles'])\n",
    "\n",
    "print(\"time/iteration: \", t/iterations)\n",
    "\n",
    "t_per_iter = (t/iterations)\n",
    "\n",
    "fig, ax = plt.subplots()\n",
    "ax.plot(ntasks, t_per_iter)\n",
    "\n",
    "ax.set(xlabel='Number of cores', ylabel='Time per iteration (s)',\n",
    "       title='LULESH MPI+OMP Modified Analysis (problem size = 32, num threads = 16)')\n",
    "ax.grid()\n",
    "plt.xticks(ntasks)\n",
    "fig.savefig(plot_directory+figureName+\".png\")\n",
    "\n",
    "plt.show()"
   ]
  }
 ],
 "metadata": {
  "kernelspec": {
   "display_name": "Python 3",
   "language": "python",
   "name": "python3"
  },
  "language_info": {
   "codemirror_mode": {
    "name": "ipython",
    "version": 3
   },
   "file_extension": ".py",
   "mimetype": "text/x-python",
   "name": "python",
   "nbconvert_exporter": "python",
   "pygments_lexer": "ipython3",
   "version": "3.10.8"
  }
 },
 "nbformat": 4,
 "nbformat_minor": 2
}
