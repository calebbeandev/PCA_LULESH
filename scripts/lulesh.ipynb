{
 "cells": [
  {
   "cell_type": "markdown",
   "metadata": {},
   "source": [
    "# LULESH Jupyter Notebook\n",
    "Author(s) : Caleb Bean, Benjamin Hicks   \n",
    "Purpose: Python code used to generate slurm job scripts, execute them, parse outputs, and plot meaningful data\n",
    "## High level Job Execution Setup"
   ]
  },
  {
   "cell_type": "code",
   "execution_count": 1,
   "metadata": {},
   "outputs": [],
   "source": [
    "# Verified on Python 3.10.8\n",
    "# lulesh.ipynb\n",
    "\n",
    "import subprocess\n",
    "import os\n",
    "import matplotlib.pyplot as plt\n",
    "import numpy as np\n",
    "\n",
    "\n",
    "\n",
    "\n",
    "job_directory = '../LULESH/'\n",
    "job_file_name = 'job-hw.sh'\n",
    "job_path = job_directory+job_file_name\n",
    "\n",
    "plot_directory = '../plots/'\n",
    "\n",
    "email = 'caleb.bean@ufl.edu'\n",
    "\n",
    "outfile_prefix = 'lulesh_out' # Note that currently outfiles do not get produced and the output is only available via stdout\n",
    "errfile_prefix = 'lulesh_err'\n",
    "slurmrun_cmd = 'srun ./lulesh2.0 -s '\n",
    "\n",
    "# Outputs we wish to track (MUST be printed stdout in form Foo=X where X is floating point data to be captured)\n",
    "outputs_track = [\n",
    "                'Time',\n",
    "                'Cycles'\n",
    "                ]\n",
    "\n",
    "# outputs_dict used to store all parsed outputs\n",
    "outputs_dict = {}\n",
    "for output in outputs_track:\n",
    "    outputs_dict[output] = []"
   ]
  },
  {
   "cell_type": "code",
   "execution_count": 2,
   "metadata": {},
   "outputs": [],
   "source": [
    "# SBATCH parameters\n",
    "# Serial case\n",
    "lulesh_s_param = [5,8]\n",
    "# lulesh_s_param = [5,8,10,12,14,16,18,20,22,25,32,48]\n",
    "nodes_param = [1]*len(lulesh_s_param)\n",
    "n_tasks_param = [1]*len(lulesh_s_param)\n",
    "n_taskspernode_param = [1]*len(lulesh_s_param)\n",
    "\n",
    "job_count = len(lulesh_s_param)"
   ]
  },
  {
   "cell_type": "markdown",
   "metadata": {},
   "source": [
    "## Function and variable declerations for code build and slurm execution and output parsing"
   ]
  },
  {
   "cell_type": "code",
   "execution_count": 3,
   "metadata": {},
   "outputs": [],
   "source": [
    "sbatch_cmds_dict = {\n",
    "    '#!/bin/bash'                           : [],\n",
    "    '#SBATCH --mail-type=FAIL'              : [],\n",
    "    '#SBATCH --mail-user='+email            : [],\n",
    "    '#SBATCH --account=eel6763'             : [],\n",
    "    '#SBATCH --qos=eel6763'                 : [],\n",
    "    '#SBATCH --nodes='                      : nodes_param, # Fill this\n",
    "    '#SBATCH --ntasks='                     : n_tasks_param, # Fill this\n",
    "    '#SBATCH --ntasks-per-node='            : n_taskspernode_param, # Fill this\n",
    "    '#SBATCH --cpus-per-task=1'             : [],\n",
    "    '#SBATCH --mem-per-cpu=500mb'           : [],\n",
    "    '#SBATCH -t 00:05:00'                   : [],\n",
    "    '#SBATCH -o '+outfile_prefix            : list(range(job_count)),\n",
    "    '#SBATCH -e '+errfile_prefix            : list(range(job_count)),\n",
    "    slurmrun_cmd                            : lulesh_s_param, # Fill this\n",
    "    }\n",
    "\n",
    "\n",
    "def genSlurmCmds(sbatch_cmds_dict : dict, job_count : int):\n",
    "    # This function converts the vectorized dictionary into individual string arrays to be written to slurm files\n",
    "    \n",
    "    slurm_cmds_arr = [[]]*job_count\n",
    "    \n",
    "    for i in range(job_count):\n",
    "        cmd_str_arr = []\n",
    "        for cmd in sbatch_cmds_dict:\n",
    "\n",
    "            if(sbatch_cmds_dict[cmd]): cmd_str_arr.append(cmd+str(sbatch_cmds_dict[cmd][i]))\n",
    "            else: cmd_str_arr.append(cmd)\n",
    "            \n",
    "        slurm_cmds_arr[i] = cmd_str_arr\n",
    "\n",
    "    return slurm_cmds_arr\n",
    "\n",
    "def genSlurmFile(cmds, path : str):\n",
    "    with open (path, 'w+') as slurmf: \n",
    "        for cmd in cmds:\n",
    "            slurmf.write(cmd + '\\n')\n",
    "\n",
    "    os.chmod(path, 0o744)\n",
    "\n",
    "\n",
    "def executeSlurmFile(job_dir, job_name):\n",
    "    \n",
    "    slurm = subprocess.run(['./'+job_name], cwd=job_dir, stdout=subprocess.PIPE, encoding='utf-8') # Should return once complete I think\n",
    "    slurm.check_returncode() # Ensures process ran and exited properly\n",
    "    \n",
    "    output_text = slurm.stdout\n",
    "    #print(output_text)\n",
    "    return output_text\n",
    "\n",
    "def parseOutputText(text: str, out_dict: str):\n",
    "\n",
    "    lines = text.splitlines()\n",
    "\n",
    "    for key in out_dict:\n",
    "        for line in lines:\n",
    "            if key in line:\n",
    "                temp = line.split(key)[1]\n",
    "                temp = temp.replace('=','')\n",
    "                out_dict[key].append(float(temp))\n",
    "    \n",
    "    #print(out_dict)\n",
    "\n"
   ]
  },
  {
   "cell_type": "markdown",
   "metadata": {},
   "source": [
    "## Code build and execution of each job"
   ]
  },
  {
   "cell_type": "code",
   "execution_count": 4,
   "metadata": {},
   "outputs": [
    {
     "name": "stderr",
     "output_type": "stream",
     "text": [
      "srun: job 30317325 queued and waiting for resources\n",
      "srun: job 30317325 has been allocated resources\n",
      "srun: job 30317326 queued and waiting for resources\n",
      "srun: job 30317326 has been allocated resources\n"
     ]
    }
   ],
   "source": [
    "\n",
    "slurm_cmds_arr = genSlurmCmds(sbatch_cmds_dict, job_count)\n",
    "\n",
    "for slurm_cmds in slurm_cmds_arr:\n",
    "\n",
    "    genSlurmFile(slurm_cmds, job_path)\n",
    "    output_text = executeSlurmFile(job_directory, job_file_name)\n",
    "    parseOutputText(output_text, outputs_dict)"
   ]
  },
  {
   "cell_type": "markdown",
   "metadata": {},
   "source": [
    "## Test setup and plotting"
   ]
  },
  {
   "cell_type": "code",
   "execution_count": 5,
   "metadata": {},
   "outputs": [
    {
     "name": "stdout",
     "output_type": "stream",
     "text": [
      "{'Time': [0.011, 0.061], 'Cycles': [72.0, 163.0]}\n"
     ]
    }
   ],
   "source": [
    "print(outputs_dict)"
   ]
  },
  {
   "cell_type": "code",
   "execution_count": 6,
   "metadata": {},
   "outputs": [
    {
     "name": "stdout",
     "output_type": "stream",
     "text": [
      "time/iteration:  [0.00015278 0.00037423]\n"
     ]
    },
    {
     "data": {
      "image/png": "[encoded data removed]",
      "text/plain": [
       "<Figure size 432x288 with 1 Axes>"
      ]
     },
     "metadata": {
      "needs_background": "light"
     },
     "output_type": "display_data"
    }
   ],
   "source": [
    "figureName = \"testyo\"\n",
    "t = np.array(outputs_dict['Time'])\n",
    "iterations = np.array(outputs_dict['Cycles'])\n",
    "\n",
    "print(\"time/iteration: \", t/iterations)\n",
    "\n",
    "t_per_iter = (t/iterations)*1000\n",
    "\n",
    "fig, ax = plt.subplots()\n",
    "ax.plot(lulesh_s_param, t_per_iter)\n",
    "\n",
    "ax.set(xlabel='Problem size (length of cube mesh side)', ylabel='Time per iteration (in ms)',\n",
    "       title='LULESH Serial Analysis')\n",
    "ax.grid()\n",
    "\n",
    "fig.savefig(plot_directory+figureName+\".png\")\n",
    "\n",
    "plt.show()\n"
   ]
  }
 ],
 "metadata": {
  "kernelspec": {
   "display_name": "Python 3",
   "language": "python",
   "name": "python3"
  },
  "language_info": {
   "codemirror_mode": {
    "name": "ipython",
    "version": 3
   },
   "file_extension": ".py",
   "mimetype": "text/x-python",
   "name": "python",
   "nbconvert_exporter": "python",
   "pygments_lexer": "ipython3",
   "version": "3.10.8"
  }
 },
 "nbformat": 4,
 "nbformat_minor": 2
}
