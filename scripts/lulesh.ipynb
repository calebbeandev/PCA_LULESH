{
 "cells": [
  {
   "cell_type": "markdown",
   "metadata": {},
   "source": [
    "# LULESH Jupyter Notebook\n",
    "Author(s) : Caleb Bean, Benjamin Hicks   \n",
    "Purpose: Python code used to generate slurm job scripts, execute them, parse outputs, and plot meaningful data\n",
    "## High level Job Execution Setup"
   ]
  },
  {
   "cell_type": "code",
   "execution_count": 12,
   "metadata": {},
   "outputs": [],
   "source": [
    "# Meant for use on Python 3.10.8\n",
    "# lulesh.ipynb\n",
    "\n",
    "import subprocess\n",
    "import os\n",
    "import matplotlib.pyplot as plt\n",
    "import numpy as np\n",
    "\n",
    "\n",
    "make_cmd = 'MPI' # Options = 'SERIAL', 'MPI', 'OMP', 'MPI+OMP'\n",
    "\n",
    "job_directory = '../LULESH/'\n",
    "job_file_name = 'job-hw.sh'\n",
    "job_path = job_directory+job_file_name\n",
    "\n",
    "plot_directory = '../plots/'\n",
    "\n",
    "email = 'caleb.bean@ufl.edu'\n",
    "\n",
    "outfile_prefix = 'lulesh_out' # Note that currently outfiles do not get produced and the output is only available via stdout\n",
    "errfile_prefix = 'lulesh_err'\n",
    "slurmrun_cmd = 'srun ./lulesh2.0 -s '\n",
    "\n",
    "# Outputs we wish to track (MUST be printed stdout in form Foo=X where X is floating point data to be captured)\n",
    "outputs_track = [\n",
    "                'Time',\n",
    "                'Cycles'\n",
    "                ]\n",
    "\n",
    "# outputs_dict used to store all parsed outputs\n",
    "outputs_dict = {}\n",
    "for output in outputs_track:\n",
    "    outputs_dict[output] = []"
   ]
  },
  {
   "cell_type": "code",
   "execution_count": 13,
   "metadata": {},
   "outputs": [],
   "source": [
    "# SBATCH parameters\n",
    "# Serial case\n",
    "lulesh_s_param = [5,8]\n",
    "# lulesh_s_param = [5,8,10,12,14,16,18,20,22,25,32,48]\n",
    "nodes_param = [1]*len(lulesh_s_param)\n",
    "n_tasks_param = [1]*len(lulesh_s_param)\n",
    "n_taskspernode_param = [1]*len(lulesh_s_param)\n",
    "\n",
    "job_count = len(lulesh_s_param)"
   ]
  },
  {
   "cell_type": "markdown",
   "metadata": {},
   "source": [
    "## Function and variable declerations for code build and slurm execution and output parsing"
   ]
  },
  {
   "cell_type": "code",
   "execution_count": 14,
   "metadata": {},
   "outputs": [],
   "source": [
    "sbatch_cmds_dict = {\n",
    "    '#!/bin/bash'                           : [],\n",
    "    '#SBATCH --mail-type=FAIL'              : [],\n",
    "    '#SBATCH --mail-user='+email            : [],\n",
    "    '#SBATCH --account=eel6763'             : [],\n",
    "    '#SBATCH --qos=eel6763'                 : [],\n",
    "    '#SBATCH --nodes='                      : nodes_param, # Fill this\n",
    "    '#SBATCH --ntasks='                     : n_tasks_param, # Fill this\n",
    "    '#SBATCH --ntasks-per-node='            : n_taskspernode_param, # Fill this\n",
    "    '#SBATCH --cpus-per-task=1'             : [],\n",
    "    '#SBATCH --mem-per-cpu=500mb'           : [],\n",
    "    '#SBATCH -t 00:05:00'                   : [],\n",
    "    '#SBATCH -o '+outfile_prefix            : list(range(job_count)),\n",
    "    '#SBATCH -e '+errfile_prefix            : list(range(job_count)),\n",
    "    slurmrun_cmd                            : lulesh_s_param, # Fill this\n",
    "    }\n",
    "\n",
    "\n",
    "def buildCode(make_cmd, job_dir):\n",
    "\n",
    "    if(make_cmd == \"SERIAL\"):\n",
    "        make = subprocess.run(['make clean -f serial_make.mk'], shell=True, cwd=job_dir)\n",
    "        make = subprocess.run(['make -f serial_make.mk'], shell=True, cwd=job_dir)\n",
    "\n",
    "    elif(make_cmd == \"MPI\"):\n",
    "        # NOT CURRENTLY WORKING (check the make file)\n",
    "        make = subprocess.run(['make clean -f mpi_make.mk'], shell=True, cwd=job_dir)\n",
    "        make = subprocess.run(['make -f mpi_make.mk'], shell=True, cwd=job_dir)\n",
    "    # else if(make_cmd == \"OMP\"):\n",
    "# \n",
    "    # else if(make_cmd == \"MPI+OMP\"):\n",
    "\n",
    "    else:\n",
    "        raise ValueError('Incorrect input names to make cmd')\n",
    "\n",
    "def genSlurmCmds(sbatch_cmds_dict : dict, job_count : int):\n",
    "    # This function converts the vectorized dictionary into individual string arrays to be written to slurm files\n",
    "    \n",
    "    slurm_cmds_arr = [[]]*job_count\n",
    "    \n",
    "    for i in range(job_count):\n",
    "        cmd_str_arr = []\n",
    "        for cmd in sbatch_cmds_dict:\n",
    "\n",
    "            if(sbatch_cmds_dict[cmd]): cmd_str_arr.append(cmd+str(sbatch_cmds_dict[cmd][i]))\n",
    "            else: cmd_str_arr.append(cmd)\n",
    "            \n",
    "        slurm_cmds_arr[i] = cmd_str_arr\n",
    "\n",
    "    return slurm_cmds_arr\n",
    "\n",
    "def genSlurmFile(cmds, path : str):\n",
    "    with open (path, 'w+') as slurmf: \n",
    "        for cmd in cmds:\n",
    "            slurmf.write(cmd + '\\n')\n",
    "\n",
    "    os.chmod(path, 0o744)\n",
    "\n",
    "\n",
    "def executeSlurmFile(job_dir, job_name):\n",
    "    slurm = subprocess.run(['./'+job_name], cwd=job_dir, stdout=subprocess.PIPE, encoding='utf-8') # Should return once complete I think\n",
    "    slurm.check_returncode() # Ensures process ran and exited properly\n",
    "    \n",
    "    output_text = slurm.stdout\n",
    "    #print(output_text)\n",
    "    return output_text\n",
    "\n",
    "def parseOutputText(text: str, out_dict: str):\n",
    "\n",
    "    lines = text.splitlines()\n",
    "\n",
    "    for key in out_dict:\n",
    "        for line in lines:\n",
    "            if key in line:\n",
    "                temp = line.split(key)[1]\n",
    "                temp = temp.replace('=','')\n",
    "                out_dict[key].append(float(temp))\n",
    "    \n",
    "    #print(out_dict)\n",
    "\n"
   ]
  },
  {
   "cell_type": "markdown",
   "metadata": {},
   "source": [
    "## Code build and execution of each job"
   ]
  },
  {
   "cell_type": "code",
   "execution_count": 16,
   "metadata": {},
   "outputs": [
    {
     "name": "stdout",
     "output_type": "stream",
     "text": [
      "/bin/rm -f *.o *~  lulesh2.0\n",
      "/bin/rm -rf *.dSYM\n",
      "Building lulesh.cc\n",
      "mpig++ -DUSE_MPI=1 -c  -o lulesh.o  lulesh.cc\n"
     ]
    },
    {
     "name": "stderr",
     "output_type": "stream",
     "text": [
      "make: mpig++: Command not found\n",
      "make: *** [mpi_make.mk:47: lulesh.o] Error 127\n",
      "srun: job 29257698 queued and waiting for resources\n",
      "srun: job 29257698 has been allocated resources\n",
      "slurmstepd: error: execve(): /home/caleb.bean/PCA/PCA_LULESH/LULESH/./lulesh2.0: No such file or directory\n",
      "srun: error: c0709a-s3: task 0: Exited with exit code 2\n"
     ]
    },
    {
     "ename": "CalledProcessError",
     "evalue": "Command '['./job-hw.sh']' returned non-zero exit status 2.",
     "output_type": "error",
     "traceback": [
      "\u001b[0;31m---------------------------------------------------------------------------\u001b[0m",
      "\u001b[0;31mCalledProcessError\u001b[0m                        Traceback (most recent call last)",
      "Cell \u001b[0;32mIn[16], line 8\u001b[0m\n\u001b[1;32m      5\u001b[0m \u001b[38;5;28;01mfor\u001b[39;00m slurm_cmds \u001b[38;5;129;01min\u001b[39;00m slurm_cmds_arr:\n\u001b[1;32m      7\u001b[0m     genSlurmFile(slurm_cmds, job_path)\n\u001b[0;32m----> 8\u001b[0m     output_text \u001b[38;5;241m=\u001b[39m \u001b[43mexecuteSlurmFile\u001b[49m\u001b[43m(\u001b[49m\u001b[43mjob_directory\u001b[49m\u001b[43m,\u001b[49m\u001b[43m \u001b[49m\u001b[43mjob_file_name\u001b[49m\u001b[43m)\u001b[49m\n\u001b[1;32m      9\u001b[0m     parseOutputText(output_text, outputs_dict)\n",
      "Cell \u001b[0;32mIn[14], line 62\u001b[0m, in \u001b[0;36mexecuteSlurmFile\u001b[0;34m(job_dir, job_name)\u001b[0m\n\u001b[1;32m     60\u001b[0m \u001b[38;5;28;01mdef\u001b[39;00m \u001b[38;5;21mexecuteSlurmFile\u001b[39m(job_dir, job_name):\n\u001b[1;32m     61\u001b[0m     slurm \u001b[38;5;241m=\u001b[39m subprocess\u001b[38;5;241m.\u001b[39mrun([\u001b[38;5;124m'\u001b[39m\u001b[38;5;124m./\u001b[39m\u001b[38;5;124m'\u001b[39m\u001b[38;5;241m+\u001b[39mjob_name], cwd\u001b[38;5;241m=\u001b[39mjob_dir, stdout\u001b[38;5;241m=\u001b[39msubprocess\u001b[38;5;241m.\u001b[39mPIPE, encoding\u001b[38;5;241m=\u001b[39m\u001b[38;5;124m'\u001b[39m\u001b[38;5;124mutf-8\u001b[39m\u001b[38;5;124m'\u001b[39m) \u001b[38;5;66;03m# Should return once complete I think\u001b[39;00m\n\u001b[0;32m---> 62\u001b[0m     \u001b[43mslurm\u001b[49m\u001b[38;5;241;43m.\u001b[39;49m\u001b[43mcheck_returncode\u001b[49m\u001b[43m(\u001b[49m\u001b[43m)\u001b[49m \u001b[38;5;66;03m# Ensures process ran and exited properly\u001b[39;00m\n\u001b[1;32m     64\u001b[0m     output_text \u001b[38;5;241m=\u001b[39m slurm\u001b[38;5;241m.\u001b[39mstdout\n\u001b[1;32m     65\u001b[0m     \u001b[38;5;66;03m#print(output_text)\u001b[39;00m\n",
      "File \u001b[0;32m/apps/python/3.10/lib/python3.10/subprocess.py:457\u001b[0m, in \u001b[0;36mCompletedProcess.check_returncode\u001b[0;34m(self)\u001b[0m\n\u001b[1;32m    455\u001b[0m \u001b[38;5;124;03m\"\"\"Raise CalledProcessError if the exit code is non-zero.\"\"\"\u001b[39;00m\n\u001b[1;32m    456\u001b[0m \u001b[38;5;28;01mif\u001b[39;00m \u001b[38;5;28mself\u001b[39m\u001b[38;5;241m.\u001b[39mreturncode:\n\u001b[0;32m--> 457\u001b[0m     \u001b[38;5;28;01mraise\u001b[39;00m CalledProcessError(\u001b[38;5;28mself\u001b[39m\u001b[38;5;241m.\u001b[39mreturncode, \u001b[38;5;28mself\u001b[39m\u001b[38;5;241m.\u001b[39margs, \u001b[38;5;28mself\u001b[39m\u001b[38;5;241m.\u001b[39mstdout,\n\u001b[1;32m    458\u001b[0m                              \u001b[38;5;28mself\u001b[39m\u001b[38;5;241m.\u001b[39mstderr)\n",
      "\u001b[0;31mCalledProcessError\u001b[0m: Command '['./job-hw.sh']' returned non-zero exit status 2."
     ]
    }
   ],
   "source": [
    "\n",
    "buildCode(make_cmd, job_directory)\n",
    "\n",
    "slurm_cmds_arr = genSlurmCmds(sbatch_cmds_dict, job_count)\n",
    "\n",
    "for slurm_cmds in slurm_cmds_arr:\n",
    "\n",
    "    genSlurmFile(slurm_cmds, job_path)\n",
    "    output_text = executeSlurmFile(job_directory, job_file_name)\n",
    "    parseOutputText(output_text, outputs_dict)"
   ]
  },
  {
   "cell_type": "markdown",
   "metadata": {},
   "source": [
    "## Test setup and plotting"
   ]
  },
  {
   "cell_type": "code",
   "execution_count": null,
   "metadata": {},
   "outputs": [
    {
     "name": "stdout",
     "output_type": "stream",
     "text": [
      "{'Time': [0.0049, 0.04], 'Cycles': [72.0, 163.0]}\n"
     ]
    }
   ],
   "source": [
    "print(outputs_dict)"
   ]
  },
  {
   "cell_type": "code",
   "execution_count": null,
   "metadata": {},
   "outputs": [
    {
     "name": "stdout",
     "output_type": "stream",
     "text": [
      "time/iteration:  [6.80555556e-05 2.45398773e-04]\n"
     ]
    },
    {
     "data": {
      "image/png": "[encoded data removed]",
      "text/plain": [
       "<Figure size 432x288 with 1 Axes>"
      ]
     },
     "metadata": {
      "needs_background": "light"
     },
     "output_type": "display_data"
    }
   ],
   "source": [
    "t = np.array(outputs_dict['Time'])\n",
    "iterations = np.array(outputs_dict['Cycles'])\n",
    "\n",
    "print(\"time/iteration: \", t/iterations)\n",
    "\n",
    "t_per_iter = (t/iterations)*1000\n",
    "\n",
    "fig, ax = plt.subplots()\n",
    "ax.plot(lulesh_s_param, t_per_iter)\n",
    "\n",
    "ax.set(xlabel='Problem size (length of cube mesh side)', ylabel='Time per iteration (in ms)',\n",
    "       title='LULESH Serial Analysis')\n",
    "ax.grid()\n",
    "\n",
    "fig.savefig(plot_directory+\"test.png\")\n",
    "\n",
    "plt.show()\n"
   ]
  }
 ],
 "metadata": {
  "kernelspec": {
   "display_name": "Python 3",
   "language": "python",
   "name": "python3"
  },
  "language_info": {
   "codemirror_mode": {
    "name": "ipython",
    "version": 3
   },
   "file_extension": ".py",
   "mimetype": "text/x-python",
   "name": "python",
   "nbconvert_exporter": "python",
   "pygments_lexer": "ipython3",
   "version": "3.10.8"
  }
 },
 "nbformat": 4,
 "nbformat_minor": 2
}
